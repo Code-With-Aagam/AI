{
 "cells": [
  {
   "cell_type": "code",
   "execution_count": 1,
   "id": "ca6fb8c0",
   "metadata": {},
   "outputs": [],
   "source": [
    "import numpy as np\n",
    "import pandas as pd\n"
   ]
  },
  {
   "cell_type": "code",
   "execution_count": 2,
   "id": "35be2475",
   "metadata": {},
   "outputs": [],
   "source": [
    "bd = pd.read_csv('winequality-red.csv',delimiter=';')\n"
   ]
  },
  {
   "cell_type": "code",
   "execution_count": 3,
   "id": "f79593ca",
   "metadata": {},
   "outputs": [
    {
     "data": {
      "text/html": [
       "<div>\n",
       "<style scoped>\n",
       "    .dataframe tbody tr th:only-of-type {\n",
       "        vertical-align: middle;\n",
       "    }\n",
       "\n",
       "    .dataframe tbody tr th {\n",
       "        vertical-align: top;\n",
       "    }\n",
       "\n",
       "    .dataframe thead th {\n",
       "        text-align: right;\n",
       "    }\n",
       "</style>\n",
       "<table border=\"1\" class=\"dataframe\">\n",
       "  <thead>\n",
       "    <tr style=\"text-align: right;\">\n",
       "      <th></th>\n",
       "      <th>fixed acidity</th>\n",
       "      <th>volatile acidity</th>\n",
       "      <th>citric acid</th>\n",
       "      <th>residual sugar</th>\n",
       "      <th>chlorides</th>\n",
       "      <th>free sulfur dioxide</th>\n",
       "      <th>total sulfur dioxide</th>\n",
       "      <th>density</th>\n",
       "      <th>pH</th>\n",
       "      <th>sulphates</th>\n",
       "      <th>alcohol</th>\n",
       "      <th>quality</th>\n",
       "    </tr>\n",
       "  </thead>\n",
       "  <tbody>\n",
       "    <tr>\n",
       "      <th>0</th>\n",
       "      <td>7.4</td>\n",
       "      <td>0.70</td>\n",
       "      <td>0.00</td>\n",
       "      <td>1.9</td>\n",
       "      <td>0.076</td>\n",
       "      <td>11.0</td>\n",
       "      <td>34.0</td>\n",
       "      <td>0.9978</td>\n",
       "      <td>3.51</td>\n",
       "      <td>0.56</td>\n",
       "      <td>9.4</td>\n",
       "      <td>5</td>\n",
       "    </tr>\n",
       "    <tr>\n",
       "      <th>1</th>\n",
       "      <td>7.8</td>\n",
       "      <td>0.88</td>\n",
       "      <td>0.00</td>\n",
       "      <td>2.6</td>\n",
       "      <td>0.098</td>\n",
       "      <td>25.0</td>\n",
       "      <td>67.0</td>\n",
       "      <td>0.9968</td>\n",
       "      <td>3.20</td>\n",
       "      <td>0.68</td>\n",
       "      <td>9.8</td>\n",
       "      <td>5</td>\n",
       "    </tr>\n",
       "    <tr>\n",
       "      <th>2</th>\n",
       "      <td>7.8</td>\n",
       "      <td>0.76</td>\n",
       "      <td>0.04</td>\n",
       "      <td>2.3</td>\n",
       "      <td>0.092</td>\n",
       "      <td>15.0</td>\n",
       "      <td>54.0</td>\n",
       "      <td>0.9970</td>\n",
       "      <td>3.26</td>\n",
       "      <td>0.65</td>\n",
       "      <td>9.8</td>\n",
       "      <td>5</td>\n",
       "    </tr>\n",
       "    <tr>\n",
       "      <th>3</th>\n",
       "      <td>11.2</td>\n",
       "      <td>0.28</td>\n",
       "      <td>0.56</td>\n",
       "      <td>1.9</td>\n",
       "      <td>0.075</td>\n",
       "      <td>17.0</td>\n",
       "      <td>60.0</td>\n",
       "      <td>0.9980</td>\n",
       "      <td>3.16</td>\n",
       "      <td>0.58</td>\n",
       "      <td>9.8</td>\n",
       "      <td>6</td>\n",
       "    </tr>\n",
       "    <tr>\n",
       "      <th>4</th>\n",
       "      <td>7.4</td>\n",
       "      <td>0.70</td>\n",
       "      <td>0.00</td>\n",
       "      <td>1.9</td>\n",
       "      <td>0.076</td>\n",
       "      <td>11.0</td>\n",
       "      <td>34.0</td>\n",
       "      <td>0.9978</td>\n",
       "      <td>3.51</td>\n",
       "      <td>0.56</td>\n",
       "      <td>9.4</td>\n",
       "      <td>5</td>\n",
       "    </tr>\n",
       "  </tbody>\n",
       "</table>\n",
       "</div>"
      ],
      "text/plain": [
       "   fixed acidity  volatile acidity  citric acid  residual sugar  chlorides  \\\n",
       "0            7.4              0.70         0.00             1.9      0.076   \n",
       "1            7.8              0.88         0.00             2.6      0.098   \n",
       "2            7.8              0.76         0.04             2.3      0.092   \n",
       "3           11.2              0.28         0.56             1.9      0.075   \n",
       "4            7.4              0.70         0.00             1.9      0.076   \n",
       "\n",
       "   free sulfur dioxide  total sulfur dioxide  density    pH  sulphates  \\\n",
       "0                 11.0                  34.0   0.9978  3.51       0.56   \n",
       "1                 25.0                  67.0   0.9968  3.20       0.68   \n",
       "2                 15.0                  54.0   0.9970  3.26       0.65   \n",
       "3                 17.0                  60.0   0.9980  3.16       0.58   \n",
       "4                 11.0                  34.0   0.9978  3.51       0.56   \n",
       "\n",
       "   alcohol  quality  \n",
       "0      9.4        5  \n",
       "1      9.8        5  \n",
       "2      9.8        5  \n",
       "3      9.8        6  \n",
       "4      9.4        5  "
      ]
     },
     "execution_count": 3,
     "metadata": {},
     "output_type": "execute_result"
    }
   ],
   "source": [
    "bd.head()"
   ]
  },
  {
   "cell_type": "code",
   "execution_count": 4,
   "id": "b4d7a02f",
   "metadata": {},
   "outputs": [
    {
     "data": {
      "text/plain": [
       "Index(['fixed acidity', 'volatile acidity', 'citric acid', 'residual sugar',\n",
       "       'chlorides', 'free sulfur dioxide', 'total sulfur dioxide', 'density',\n",
       "       'pH', 'sulphates', 'alcohol', 'quality'],\n",
       "      dtype='object')"
      ]
     },
     "execution_count": 4,
     "metadata": {},
     "output_type": "execute_result"
    }
   ],
   "source": [
    "bd.columns"
   ]
  },
  {
   "cell_type": "code",
   "execution_count": 5,
   "id": "878866fc",
   "metadata": {},
   "outputs": [
    {
     "data": {
      "text/html": [
       "<div>\n",
       "<style scoped>\n",
       "    .dataframe tbody tr th:only-of-type {\n",
       "        vertical-align: middle;\n",
       "    }\n",
       "\n",
       "    .dataframe tbody tr th {\n",
       "        vertical-align: top;\n",
       "    }\n",
       "\n",
       "    .dataframe thead th {\n",
       "        text-align: right;\n",
       "    }\n",
       "</style>\n",
       "<table border=\"1\" class=\"dataframe\">\n",
       "  <thead>\n",
       "    <tr style=\"text-align: right;\">\n",
       "      <th></th>\n",
       "      <th>fixed acidity</th>\n",
       "      <th>volatile acidity</th>\n",
       "      <th>citric acid</th>\n",
       "      <th>residual sugar</th>\n",
       "      <th>chlorides</th>\n",
       "      <th>free sulfur dioxide</th>\n",
       "      <th>total sulfur dioxide</th>\n",
       "      <th>density</th>\n",
       "      <th>pH</th>\n",
       "      <th>sulphates</th>\n",
       "      <th>alcohol</th>\n",
       "      <th>quality</th>\n",
       "    </tr>\n",
       "  </thead>\n",
       "  <tbody>\n",
       "    <tr>\n",
       "      <th>count</th>\n",
       "      <td>1599.000000</td>\n",
       "      <td>1599.000000</td>\n",
       "      <td>1599.000000</td>\n",
       "      <td>1599.000000</td>\n",
       "      <td>1599.000000</td>\n",
       "      <td>1599.000000</td>\n",
       "      <td>1599.000000</td>\n",
       "      <td>1599.000000</td>\n",
       "      <td>1599.000000</td>\n",
       "      <td>1599.000000</td>\n",
       "      <td>1599.000000</td>\n",
       "      <td>1599.000000</td>\n",
       "    </tr>\n",
       "    <tr>\n",
       "      <th>mean</th>\n",
       "      <td>8.319637</td>\n",
       "      <td>0.527821</td>\n",
       "      <td>0.270976</td>\n",
       "      <td>2.538806</td>\n",
       "      <td>0.087467</td>\n",
       "      <td>15.874922</td>\n",
       "      <td>46.467792</td>\n",
       "      <td>0.996747</td>\n",
       "      <td>3.311113</td>\n",
       "      <td>0.658149</td>\n",
       "      <td>10.422983</td>\n",
       "      <td>5.636023</td>\n",
       "    </tr>\n",
       "    <tr>\n",
       "      <th>std</th>\n",
       "      <td>1.741096</td>\n",
       "      <td>0.179060</td>\n",
       "      <td>0.194801</td>\n",
       "      <td>1.409928</td>\n",
       "      <td>0.047065</td>\n",
       "      <td>10.460157</td>\n",
       "      <td>32.895324</td>\n",
       "      <td>0.001887</td>\n",
       "      <td>0.154386</td>\n",
       "      <td>0.169507</td>\n",
       "      <td>1.065668</td>\n",
       "      <td>0.807569</td>\n",
       "    </tr>\n",
       "    <tr>\n",
       "      <th>min</th>\n",
       "      <td>4.600000</td>\n",
       "      <td>0.120000</td>\n",
       "      <td>0.000000</td>\n",
       "      <td>0.900000</td>\n",
       "      <td>0.012000</td>\n",
       "      <td>1.000000</td>\n",
       "      <td>6.000000</td>\n",
       "      <td>0.990070</td>\n",
       "      <td>2.740000</td>\n",
       "      <td>0.330000</td>\n",
       "      <td>8.400000</td>\n",
       "      <td>3.000000</td>\n",
       "    </tr>\n",
       "    <tr>\n",
       "      <th>25%</th>\n",
       "      <td>7.100000</td>\n",
       "      <td>0.390000</td>\n",
       "      <td>0.090000</td>\n",
       "      <td>1.900000</td>\n",
       "      <td>0.070000</td>\n",
       "      <td>7.000000</td>\n",
       "      <td>22.000000</td>\n",
       "      <td>0.995600</td>\n",
       "      <td>3.210000</td>\n",
       "      <td>0.550000</td>\n",
       "      <td>9.500000</td>\n",
       "      <td>5.000000</td>\n",
       "    </tr>\n",
       "    <tr>\n",
       "      <th>50%</th>\n",
       "      <td>7.900000</td>\n",
       "      <td>0.520000</td>\n",
       "      <td>0.260000</td>\n",
       "      <td>2.200000</td>\n",
       "      <td>0.079000</td>\n",
       "      <td>14.000000</td>\n",
       "      <td>38.000000</td>\n",
       "      <td>0.996750</td>\n",
       "      <td>3.310000</td>\n",
       "      <td>0.620000</td>\n",
       "      <td>10.200000</td>\n",
       "      <td>6.000000</td>\n",
       "    </tr>\n",
       "    <tr>\n",
       "      <th>75%</th>\n",
       "      <td>9.200000</td>\n",
       "      <td>0.640000</td>\n",
       "      <td>0.420000</td>\n",
       "      <td>2.600000</td>\n",
       "      <td>0.090000</td>\n",
       "      <td>21.000000</td>\n",
       "      <td>62.000000</td>\n",
       "      <td>0.997835</td>\n",
       "      <td>3.400000</td>\n",
       "      <td>0.730000</td>\n",
       "      <td>11.100000</td>\n",
       "      <td>6.000000</td>\n",
       "    </tr>\n",
       "    <tr>\n",
       "      <th>max</th>\n",
       "      <td>15.900000</td>\n",
       "      <td>1.580000</td>\n",
       "      <td>1.000000</td>\n",
       "      <td>15.500000</td>\n",
       "      <td>0.611000</td>\n",
       "      <td>72.000000</td>\n",
       "      <td>289.000000</td>\n",
       "      <td>1.003690</td>\n",
       "      <td>4.010000</td>\n",
       "      <td>2.000000</td>\n",
       "      <td>14.900000</td>\n",
       "      <td>8.000000</td>\n",
       "    </tr>\n",
       "  </tbody>\n",
       "</table>\n",
       "</div>"
      ],
      "text/plain": [
       "       fixed acidity  volatile acidity  citric acid  residual sugar  \\\n",
       "count    1599.000000       1599.000000  1599.000000     1599.000000   \n",
       "mean        8.319637          0.527821     0.270976        2.538806   \n",
       "std         1.741096          0.179060     0.194801        1.409928   \n",
       "min         4.600000          0.120000     0.000000        0.900000   \n",
       "25%         7.100000          0.390000     0.090000        1.900000   \n",
       "50%         7.900000          0.520000     0.260000        2.200000   \n",
       "75%         9.200000          0.640000     0.420000        2.600000   \n",
       "max        15.900000          1.580000     1.000000       15.500000   \n",
       "\n",
       "         chlorides  free sulfur dioxide  total sulfur dioxide      density  \\\n",
       "count  1599.000000          1599.000000           1599.000000  1599.000000   \n",
       "mean      0.087467            15.874922             46.467792     0.996747   \n",
       "std       0.047065            10.460157             32.895324     0.001887   \n",
       "min       0.012000             1.000000              6.000000     0.990070   \n",
       "25%       0.070000             7.000000             22.000000     0.995600   \n",
       "50%       0.079000            14.000000             38.000000     0.996750   \n",
       "75%       0.090000            21.000000             62.000000     0.997835   \n",
       "max       0.611000            72.000000            289.000000     1.003690   \n",
       "\n",
       "                pH    sulphates      alcohol      quality  \n",
       "count  1599.000000  1599.000000  1599.000000  1599.000000  \n",
       "mean      3.311113     0.658149    10.422983     5.636023  \n",
       "std       0.154386     0.169507     1.065668     0.807569  \n",
       "min       2.740000     0.330000     8.400000     3.000000  \n",
       "25%       3.210000     0.550000     9.500000     5.000000  \n",
       "50%       3.310000     0.620000    10.200000     6.000000  \n",
       "75%       3.400000     0.730000    11.100000     6.000000  \n",
       "max       4.010000     2.000000    14.900000     8.000000  "
      ]
     },
     "execution_count": 5,
     "metadata": {},
     "output_type": "execute_result"
    }
   ],
   "source": [
    "bd.describe()"
   ]
  },
  {
   "cell_type": "markdown",
   "id": "4aa2e265",
   "metadata": {},
   "source": [
    "### Linear Regression"
   ]
  },
  {
   "cell_type": "code",
   "execution_count": 6,
   "id": "7a02b7a8",
   "metadata": {},
   "outputs": [],
   "source": [
    "X = bd[['fixed acidity', 'volatile acidity', 'citric acid', 'residual sugar',\n",
    "       'chlorides', 'free sulfur dioxide', 'total sulfur dioxide', 'density',\n",
    "       'pH', 'sulphates', 'alcohol']]"
   ]
  },
  {
   "cell_type": "code",
   "execution_count": 7,
   "id": "0c73854e",
   "metadata": {},
   "outputs": [],
   "source": [
    "y = bd['quality']"
   ]
  },
  {
   "cell_type": "code",
   "execution_count": 8,
   "id": "7a7fc06b",
   "metadata": {},
   "outputs": [],
   "source": [
    "from sklearn.model_selection import train_test_split"
   ]
  },
  {
   "cell_type": "code",
   "execution_count": 9,
   "id": "b498d0d9",
   "metadata": {},
   "outputs": [],
   "source": [
    " X_train, X_test, y_train, y_test = train_test_split(X, y, test_size=0.33, random_state=101)"
   ]
  },
  {
   "cell_type": "code",
   "execution_count": 10,
   "id": "67516006",
   "metadata": {},
   "outputs": [],
   "source": [
    "from sklearn.linear_model import LinearRegression"
   ]
  },
  {
   "cell_type": "code",
   "execution_count": 11,
   "id": "e1764f6a",
   "metadata": {},
   "outputs": [],
   "source": [
    "lm = LinearRegression()"
   ]
  },
  {
   "cell_type": "code",
   "execution_count": 12,
   "id": "7ec516dd",
   "metadata": {},
   "outputs": [
    {
     "data": {
      "text/plain": [
       "LinearRegression()"
      ]
     },
     "execution_count": 12,
     "metadata": {},
     "output_type": "execute_result"
    }
   ],
   "source": [
    "lm.fit(X_train, y_train) "
   ]
  },
  {
   "cell_type": "code",
   "execution_count": null,
   "id": "7c0c99c5",
   "metadata": {},
   "outputs": [],
   "source": []
  },
  {
   "cell_type": "code",
   "execution_count": 13,
   "id": "93002b05",
   "metadata": {},
   "outputs": [
    {
     "name": "stdout",
     "output_type": "stream",
     "text": [
      "7.264173100020852\n"
     ]
    }
   ],
   "source": [
    "print(lm.intercept_)"
   ]
  },
  {
   "cell_type": "code",
   "execution_count": 14,
   "id": "1b698e3b",
   "metadata": {},
   "outputs": [
    {
     "data": {
      "text/plain": [
       "array([ 3.96044919e-02, -1.16906171e+00, -3.70552205e-01,  1.37597847e-02,\n",
       "       -1.42327721e+00,  1.26936356e-03, -3.00684052e-03, -3.22174492e+00,\n",
       "       -4.61644820e-01,  8.33305012e-01,  3.05119495e-01])"
      ]
     },
     "execution_count": 14,
     "metadata": {},
     "output_type": "execute_result"
    }
   ],
   "source": [
    "lm.coef_"
   ]
  },
  {
   "cell_type": "code",
   "execution_count": 15,
   "id": "79854d9d",
   "metadata": {},
   "outputs": [
    {
     "data": {
      "text/plain": [
       "Index(['fixed acidity', 'volatile acidity', 'citric acid', 'residual sugar',\n",
       "       'chlorides', 'free sulfur dioxide', 'total sulfur dioxide', 'density',\n",
       "       'pH', 'sulphates', 'alcohol'],\n",
       "      dtype='object')"
      ]
     },
     "execution_count": 15,
     "metadata": {},
     "output_type": "execute_result"
    }
   ],
   "source": [
    "X_train.columns"
   ]
  },
  {
   "cell_type": "code",
   "execution_count": 16,
   "id": "83a8683a",
   "metadata": {},
   "outputs": [],
   "source": [
    "cdf = pd.DataFrame(lm.coef_,X.columns,columns=['Coeff'])"
   ]
  },
  {
   "cell_type": "code",
   "execution_count": 17,
   "id": "0771d010",
   "metadata": {},
   "outputs": [
    {
     "data": {
      "text/html": [
       "<div>\n",
       "<style scoped>\n",
       "    .dataframe tbody tr th:only-of-type {\n",
       "        vertical-align: middle;\n",
       "    }\n",
       "\n",
       "    .dataframe tbody tr th {\n",
       "        vertical-align: top;\n",
       "    }\n",
       "\n",
       "    .dataframe thead th {\n",
       "        text-align: right;\n",
       "    }\n",
       "</style>\n",
       "<table border=\"1\" class=\"dataframe\">\n",
       "  <thead>\n",
       "    <tr style=\"text-align: right;\">\n",
       "      <th></th>\n",
       "      <th>Coeff</th>\n",
       "    </tr>\n",
       "  </thead>\n",
       "  <tbody>\n",
       "    <tr>\n",
       "      <th>fixed acidity</th>\n",
       "      <td>0.039604</td>\n",
       "    </tr>\n",
       "    <tr>\n",
       "      <th>volatile acidity</th>\n",
       "      <td>-1.169062</td>\n",
       "    </tr>\n",
       "    <tr>\n",
       "      <th>citric acid</th>\n",
       "      <td>-0.370552</td>\n",
       "    </tr>\n",
       "    <tr>\n",
       "      <th>residual sugar</th>\n",
       "      <td>0.013760</td>\n",
       "    </tr>\n",
       "    <tr>\n",
       "      <th>chlorides</th>\n",
       "      <td>-1.423277</td>\n",
       "    </tr>\n",
       "  </tbody>\n",
       "</table>\n",
       "</div>"
      ],
      "text/plain": [
       "                     Coeff\n",
       "fixed acidity     0.039604\n",
       "volatile acidity -1.169062\n",
       "citric acid      -0.370552\n",
       "residual sugar    0.013760\n",
       "chlorides        -1.423277"
      ]
     },
     "execution_count": 17,
     "metadata": {},
     "output_type": "execute_result"
    }
   ],
   "source": [
    "cdf.head()"
   ]
  },
  {
   "cell_type": "code",
   "execution_count": 18,
   "id": "658b7c4f",
   "metadata": {},
   "outputs": [],
   "source": [
    "predictions = lm.predict(X_test)"
   ]
  },
  {
   "cell_type": "code",
   "execution_count": 19,
   "id": "18c53f4b",
   "metadata": {},
   "outputs": [
    {
     "data": {
      "text/plain": [
       "array([5.03003792, 5.23628062, 5.01246775, 5.81779264, 6.18374528,\n",
       "       6.49754959, 6.2374725 , 6.05406419, 5.86370041, 5.60421949,\n",
       "       5.80191677, 5.95606748, 6.20303329, 5.23229355, 5.62643663,\n",
       "       5.23322573, 6.38035537, 5.2346498 , 5.18749358, 5.47869148,\n",
       "       5.82249347, 5.62242535, 5.27549582, 5.8020534 , 5.70625604,\n",
       "       5.15520283, 5.31949683, 5.68635508, 6.50465315, 5.3098149 ,\n",
       "       5.31131237, 5.18560412, 5.7714925 , 5.37977679, 5.45365799,\n",
       "       6.5023938 , 5.83699868, 6.27839734, 5.1306076 , 5.09367743,\n",
       "       6.51828747, 5.23371783, 6.05951077, 5.84732076, 6.2357648 ,\n",
       "       6.07867179, 5.76120281, 6.5349755 , 4.89118498, 5.5944457 ,\n",
       "       5.49211822, 5.95135434, 5.4513232 , 5.48167518, 5.55267489,\n",
       "       6.0593122 , 6.10064314, 5.98966422, 6.60387211, 6.64166157,\n",
       "       5.06621371, 4.96668505, 5.42191556, 5.52386135, 5.13899293,\n",
       "       5.62242535, 4.98305001, 5.55517268, 4.95424287, 5.87929407,\n",
       "       4.95057069, 5.46011101, 6.05274177, 5.73476012, 5.3557913 ,\n",
       "       7.66970985, 5.27728241, 6.30122019, 5.24193372, 6.40464148,\n",
       "       5.02490186, 6.19267805, 5.23826982, 5.14114549, 6.08184021,\n",
       "       5.34340809, 5.38226275, 5.92138553, 4.96135849, 5.53449785,\n",
       "       6.90752977, 5.8999186 , 5.08541485, 5.91064451, 6.44354863,\n",
       "       5.4639629 , 5.34269071, 6.0417126 , 5.28979784, 5.93168293,\n",
       "       4.63432287, 6.34423961, 5.03327696, 6.06804571, 5.37378835,\n",
       "       5.52266653, 5.53211009, 5.67503725, 5.06835174, 6.47348785,\n",
       "       5.20624864, 5.73503865, 5.13232024, 6.06804571, 5.34065722,\n",
       "       6.04755273, 6.42336081, 5.1060566 , 5.39603668, 5.45668284,\n",
       "       6.11570019, 5.66267932, 5.17210803, 6.44296257, 5.75648118,\n",
       "       5.06105285, 6.28474623, 4.74804714, 5.78071935, 5.48013694,\n",
       "       5.50247105, 4.95922737, 6.44061552, 6.00072308, 5.51585901,\n",
       "       6.56016889, 5.06678132, 6.38605439, 6.03211631, 6.49204083,\n",
       "       5.09389938, 5.67352817, 5.339675  , 5.12856485, 5.64239667,\n",
       "       6.62771952, 5.74394664, 6.06414894, 5.98223685, 5.31684673,\n",
       "       5.61460436, 5.79086278, 4.77304966, 6.09443056, 5.44306048,\n",
       "       5.11948107, 4.72414285, 5.26365085, 5.92228956, 5.2796527 ,\n",
       "       5.16309171, 5.41156021, 5.56132732, 5.51793886, 5.67791254,\n",
       "       5.85156294, 6.517548  , 6.25271451, 6.35687802, 6.23211921,\n",
       "       5.03573299, 6.13283815, 6.42413835, 5.24141895, 5.99102633,\n",
       "       6.37018535, 6.27863812, 5.69094137, 5.90744148, 4.94870284,\n",
       "       6.2724836 , 5.48800254, 5.50086052, 5.20415499, 5.99092346,\n",
       "       4.82456291, 4.9173373 , 6.00279467, 5.98118917, 5.07364488,\n",
       "       6.33642078, 6.37787779, 5.68045263, 5.7491093 , 6.07824224,\n",
       "       6.11284577, 5.34681617, 5.49760883, 5.7491093 , 6.01657724,\n",
       "       5.14634041, 6.29597917, 5.48777349, 6.60276786, 6.09391531,\n",
       "       5.35310525, 6.19429783, 5.83796774, 6.19128355, 5.78173542,\n",
       "       5.99102633, 5.24238157, 6.65990244, 5.18772864, 5.49850441,\n",
       "       6.46759655, 5.06419168, 5.88690991, 5.11193543, 5.09255451,\n",
       "       4.94578751, 6.95740756, 5.37922228, 5.63670021, 6.1082824 ,\n",
       "       6.10904009, 6.37056733, 5.54611557, 6.07898166, 5.84879904,\n",
       "       5.49213736, 5.4380504 , 6.31788958, 4.74101387, 5.78644991,\n",
       "       5.50591031, 6.19267805, 5.48653445, 5.40747491, 5.60104693,\n",
       "       5.42561433, 6.37134111, 6.25537822, 5.24487461, 5.30170132,\n",
       "       5.17159485, 5.18730191, 6.54037556, 5.19393166, 6.16820355,\n",
       "       5.06678848, 6.01242768, 5.15546802, 5.00478401, 5.60430166,\n",
       "       5.37797226, 5.93095083, 5.06975029, 5.87799618, 6.87519975,\n",
       "       5.26493231, 6.40219521, 5.07082101, 5.54963023, 5.189951  ,\n",
       "       5.93926764, 5.16029395, 5.11629736, 5.87344569, 6.64105086,\n",
       "       5.6362045 , 5.80678583, 6.1009047 , 5.0969741 , 5.75234464,\n",
       "       5.33420881, 5.48277267, 6.00072308, 5.45536344, 5.46582158,\n",
       "       5.76388589, 6.0980896 , 6.23570605, 6.23744768, 5.36886376,\n",
       "       6.08288241, 5.12344152, 5.28640169, 5.29292554, 5.647599  ,\n",
       "       5.53650907, 5.25112725, 5.39191539, 5.58948154, 5.41156021,\n",
       "       6.20781778, 5.28640169, 6.31294445, 5.43797325, 5.05994242,\n",
       "       6.9219129 , 5.27885675, 5.42320995, 5.05994242, 5.85235488,\n",
       "       5.53038008, 5.64375219, 5.86548344, 5.02137549, 5.84404765,\n",
       "       6.0754739 , 5.76475006, 5.17594621, 5.3986932 , 4.8891446 ,\n",
       "       5.65419826, 5.29359425, 5.28773104, 5.71884581, 5.25059678,\n",
       "       5.70034146, 5.37763859, 5.09389938, 6.20579124, 5.45927013,\n",
       "       6.54576523, 6.27839734, 5.13641778, 5.12863303, 5.42977646,\n",
       "       6.4964965 , 5.04713694, 5.17280582, 5.98773259, 6.3834955 ,\n",
       "       5.10543883, 4.88478207, 5.4037875 , 5.58692466, 5.03777764,\n",
       "       6.16866818, 5.86548344, 5.85302445, 6.25518415, 5.58425933,\n",
       "       5.11951026, 6.25201059, 5.9333278 , 5.69185863, 5.50247105,\n",
       "       5.76605485, 5.9585196 , 5.93437792, 6.57209264, 6.17573418,\n",
       "       6.40464148, 6.23169519, 5.81503221, 5.54217463, 5.38244078,\n",
       "       5.68729419, 5.43943351, 5.2103007 , 6.56003932, 5.44275192,\n",
       "       5.49735325, 6.00465615, 6.16785923, 6.25224431, 5.1464203 ,\n",
       "       6.68603878, 5.53384171, 4.82810043, 5.83344808, 5.12853505,\n",
       "       5.83793008, 6.79796279, 6.59588248, 5.82892689, 5.90375212,\n",
       "       5.21744396, 6.47961282, 5.00797703, 5.11500096, 5.54641491,\n",
       "       6.28939987, 5.72640834, 5.12789387, 5.6983055 , 5.62094139,\n",
       "       6.32034328, 5.64588123, 4.78732189, 5.22641394, 6.40304401,\n",
       "       5.69878623, 5.59207827, 5.37263213, 5.44796104, 6.14370267,\n",
       "       5.0888694 , 5.19678974, 5.78173542, 6.25699851, 6.41059144,\n",
       "       5.94576952, 5.37393378, 6.18374528, 5.22062348, 6.61183357,\n",
       "       4.8864385 , 6.76496251, 6.22471496, 5.71699935, 4.77884293,\n",
       "       6.40698006, 5.34419396, 6.08149288, 5.22361122, 5.05191484,\n",
       "       5.23506024, 5.50842435, 5.16399059, 5.06448169, 5.37652122,\n",
       "       5.26483773, 6.0980896 , 6.99885399, 6.19429783, 5.72822975,\n",
       "       6.59191923, 6.57683628, 5.39191539, 5.8561374 , 5.94173002,\n",
       "       5.33198627, 6.02147731, 5.35591958, 5.62356084, 5.69908822,\n",
       "       6.20925504, 6.64886528, 5.54762633, 6.80295734, 5.74283333,\n",
       "       5.98527944, 5.90199524, 4.86655904, 4.97889995, 5.46762764,\n",
       "       5.41840799, 5.91963199, 5.27634428, 5.70374006, 5.73708159,\n",
       "       6.08156679, 5.26123581, 6.11079569, 6.41721904, 5.19148928,\n",
       "       5.47224616, 5.13232024, 5.65167907, 5.34351959, 5.61735601,\n",
       "       4.80427913, 5.4430925 , 5.119371  , 5.2453606 , 5.48466578,\n",
       "       5.24030289, 6.4959527 , 5.58275108, 5.07248873, 5.13669383,\n",
       "       5.76365083, 6.27775173, 5.30711335, 5.12283484, 5.68045263,\n",
       "       5.76081272, 5.79957949, 5.10316768, 6.09458386, 5.87710989,\n",
       "       5.23902446, 6.31851198, 5.18545374, 5.06353999, 5.3149395 ,\n",
       "       5.26211572, 6.54221159, 5.012783  , 5.09294718, 5.97161811,\n",
       "       5.43303816, 5.28337548, 5.73899004, 4.94818321, 6.37050835,\n",
       "       5.17038775, 5.68793321, 5.51473204, 5.73708159, 5.95997195,\n",
       "       5.47081525, 5.99620307, 5.81925711, 4.91322067, 5.32354028,\n",
       "       5.78471739, 5.81760226, 6.10766052, 5.20349166, 5.43027514,\n",
       "       5.35859088, 6.55884655, 5.0989719 , 5.05195371, 5.63342111,\n",
       "       5.99951743, 4.97951021, 5.07173147, 5.50591031, 5.66617046,\n",
       "       6.26098603, 5.80772808, 5.17459913])"
      ]
     },
     "execution_count": 19,
     "metadata": {},
     "output_type": "execute_result"
    }
   ],
   "source": [
    "predictions"
   ]
  },
  {
   "cell_type": "code",
   "execution_count": 20,
   "id": "0e1b2ab7",
   "metadata": {},
   "outputs": [
    {
     "data": {
      "text/plain": [
       "678     5\n",
       "1500    5\n",
       "1457    5\n",
       "1079    7\n",
       "909     6\n",
       "       ..\n",
       "990     5\n",
       "1444    6\n",
       "1202    8\n",
       "1291    6\n",
       "500     6\n",
       "Name: quality, Length: 528, dtype: int64"
      ]
     },
     "execution_count": 20,
     "metadata": {},
     "output_type": "execute_result"
    }
   ],
   "source": [
    "y_test"
   ]
  },
  {
   "cell_type": "code",
   "execution_count": 21,
   "id": "f1695221",
   "metadata": {},
   "outputs": [],
   "source": [
    "from sklearn import metrics"
   ]
  },
  {
   "cell_type": "code",
   "execution_count": 22,
   "id": "03555867",
   "metadata": {},
   "outputs": [
    {
     "data": {
      "text/plain": [
       "0.5312196051904471"
      ]
     },
     "execution_count": 22,
     "metadata": {},
     "output_type": "execute_result"
    }
   ],
   "source": [
    "metrics.mean_absolute_error(y_test,predictions)"
   ]
  },
  {
   "cell_type": "code",
   "execution_count": 23,
   "id": "47fc69fd",
   "metadata": {},
   "outputs": [
    {
     "data": {
      "text/plain": [
       "0.49083830035637405"
      ]
     },
     "execution_count": 23,
     "metadata": {},
     "output_type": "execute_result"
    }
   ],
   "source": [
    "metrics.mean_squared_error(y_test,predictions)"
   ]
  },
  {
   "cell_type": "code",
   "execution_count": 24,
   "id": "b2b44d9e",
   "metadata": {},
   "outputs": [
    {
     "data": {
      "text/plain": [
       "0.7005985300843658"
      ]
     },
     "execution_count": 24,
     "metadata": {},
     "output_type": "execute_result"
    }
   ],
   "source": [
    "np.sqrt(metrics.mean_squared_error(y_test,predictions))"
   ]
  },
  {
   "cell_type": "markdown",
   "id": "db5b41d1",
   "metadata": {},
   "source": [
    "### Standardizing Feature Variables"
   ]
  },
  {
   "cell_type": "code",
   "execution_count": 25,
   "id": "5428ef1d",
   "metadata": {},
   "outputs": [],
   "source": [
    "from sklearn.preprocessing import StandardScaler\n",
    "X_features = X\n",
    "X = StandardScaler().fit_transform(X)"
   ]
  },
  {
   "cell_type": "markdown",
   "id": "784e595e",
   "metadata": {},
   "source": [
    "### Decision Tree"
   ]
  },
  {
   "cell_type": "code",
   "execution_count": 26,
   "id": "5180ec18",
   "metadata": {},
   "outputs": [],
   "source": [
    "from sklearn.metrics import classification_report"
   ]
  },
  {
   "cell_type": "code",
   "execution_count": 27,
   "id": "4704c863",
   "metadata": {},
   "outputs": [],
   "source": [
    "from sklearn.tree import DecisionTreeClassifier"
   ]
  },
  {
   "cell_type": "code",
   "execution_count": 28,
   "id": "a420b7ec",
   "metadata": {},
   "outputs": [],
   "source": [
    "dt = DecisionTreeClassifier(random_state=1)"
   ]
  },
  {
   "cell_type": "code",
   "execution_count": 29,
   "id": "2f64ac4b",
   "metadata": {},
   "outputs": [
    {
     "data": {
      "text/plain": [
       "DecisionTreeClassifier(random_state=1)"
      ]
     },
     "execution_count": 29,
     "metadata": {},
     "output_type": "execute_result"
    }
   ],
   "source": [
    "dt.fit(X_train,y_train)"
   ]
  },
  {
   "cell_type": "code",
   "execution_count": 30,
   "id": "99a01609",
   "metadata": {},
   "outputs": [],
   "source": [
    "pred = dt.predict(X_test)"
   ]
  },
  {
   "cell_type": "code",
   "execution_count": 32,
   "id": "85b0ed64",
   "metadata": {},
   "outputs": [
    {
     "name": "stdout",
     "output_type": "stream",
     "text": [
      "              precision    recall  f1-score   support\n",
      "\n",
      "           3       0.25      0.20      0.22         5\n",
      "           4       0.07      0.05      0.06        20\n",
      "           5       0.67      0.65      0.66       230\n",
      "           6       0.54      0.59      0.56       199\n",
      "           7       0.48      0.43      0.46        67\n",
      "           8       0.20      0.14      0.17         7\n",
      "\n",
      "    accuracy                           0.57       528\n",
      "   macro avg       0.37      0.35      0.35       528\n",
      "weighted avg       0.56      0.57      0.56       528\n",
      "\n"
     ]
    }
   ],
   "source": [
    "print(classification_report(y_test,pred))"
   ]
  },
  {
   "cell_type": "code",
   "execution_count": 33,
   "id": "42d112fd",
   "metadata": {},
   "outputs": [],
   "source": [
    "from sklearn.metrics import confusion_matrix"
   ]
  },
  {
   "cell_type": "code",
   "execution_count": 34,
   "id": "22c372cb",
   "metadata": {},
   "outputs": [
    {
     "name": "stdout",
     "output_type": "stream",
     "text": [
      "[[  1   3   1   0   0   0]\n",
      " [  0   1  14   4   1   0]\n",
      " [  3   4 150  67   5   1]\n",
      " [  0   4  53 118  22   2]\n",
      " [  0   3   7  27  29   1]\n",
      " [  0   0   0   3   3   1]]\n"
     ]
    }
   ],
   "source": [
    "print(confusion_matrix(y_test,pred))"
   ]
  },
  {
   "cell_type": "code",
   "execution_count": null,
   "id": "30b2af9f",
   "metadata": {},
   "outputs": [],
   "source": []
  }
 ],
 "metadata": {
  "kernelspec": {
   "display_name": "Python 3 (ipykernel)",
   "language": "python",
   "name": "python3"
  },
  "language_info": {
   "codemirror_mode": {
    "name": "ipython",
    "version": 3
   },
   "file_extension": ".py",
   "mimetype": "text/x-python",
   "name": "python",
   "nbconvert_exporter": "python",
   "pygments_lexer": "ipython3",
   "version": "3.9.7"
  }
 },
 "nbformat": 4,
 "nbformat_minor": 5
}
